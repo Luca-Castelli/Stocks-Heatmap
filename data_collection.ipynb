{
 "cells": [
  {
   "cell_type": "code",
   "execution_count": null,
   "metadata": {},
   "outputs": [],
   "source": [
    "import pandas as pd\n",
    "import pandas_datareader.data as web\n",
    "import datetime"
   ]
  },
  {
   "cell_type": "code",
   "execution_count": null,
   "metadata": {},
   "outputs": [],
   "source": [
    "def download_stock(stock):\n",
    "    try:\n",
    "        print(stock)\n",
    "        stock_df = web.DataReader(stock, 'yahoo', start_date, end_date)\n",
    "        stock_df['Name'] = stock\n",
    "        output_file_name = stock + \"_data.csv\"\n",
    "        stock_df.to_csv(\"./stock_data/\" + output_file_name)\n",
    "    except:\n",
    "        print(f\"Failed to fetch data for {stock}\")"
   ]
  },
  {
   "cell_type": "code",
   "execution_count": null,
   "metadata": {},
   "outputs": [],
   "source": [
    "stock_tickers = pd.read_csv(\"./stock_tickers.csv\")\n",
    "stock_tickers_list = stock_tickers.Stock_Tickers\n",
    "# end_date = datetime.datetime.now()\n",
    "end_date = datetime.datetime(2022, 4, 15)\n",
    "start_date = datetime.datetime(end_date.year-1, end_date.month, end_date.day)\n"
   ]
  },
  {
   "cell_type": "code",
   "execution_count": null,
   "metadata": {},
   "outputs": [],
   "source": [
    "for stock in stock_tickers_list:\n",
    "    download_stock(stock)"
   ]
  },
  {
   "cell_type": "code",
   "execution_count": null,
   "metadata": {},
   "outputs": [],
   "source": [
    "market_cap = web.get_quote_yahoo(stock_tickers_list)['marketCap']\n",
    "df = pd.DataFrame({'Name':market_cap.index, 'Market Cap':market_cap.values})\n",
    "df.to_csv(\"marketcap.csv\", index=False)"
   ]
  },
  {
   "cell_type": "code",
   "execution_count": 23,
   "metadata": {},
   "outputs": [],
   "source": [
    "company_names = web.get_quote_yahoo(stock_tickers_list)['longName']\n",
    "df = pd.DataFrame({'Name':company_names.index, 'Company Name':company_names.values})\n",
    "df.to_csv(\"company_names.csv\", index=False)"
   ]
  },
  {
   "cell_type": "code",
   "execution_count": null,
   "metadata": {},
   "outputs": [],
   "source": []
  }
 ],
 "metadata": {
  "interpreter": {
   "hash": "ef490210a77dd8ce513f59e754acb0fe358dd6ba1f4c2c486fb43b4af0c69c8a"
  },
  "kernelspec": {
   "display_name": "Python 3.9.7 64-bit",
   "language": "python",
   "name": "python3"
  },
  "language_info": {
   "codemirror_mode": {
    "name": "ipython",
    "version": 3
   },
   "file_extension": ".py",
   "mimetype": "text/x-python",
   "name": "python",
   "nbconvert_exporter": "python",
   "pygments_lexer": "ipython3",
   "version": "3.9.7"
  },
  "orig_nbformat": 4
 },
 "nbformat": 4,
 "nbformat_minor": 2
}
